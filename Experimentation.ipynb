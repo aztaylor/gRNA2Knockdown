{
 "cells": [
  {
   "cell_type": "markdown",
   "metadata": {},
   "source": [
    "# Experiment Notebook \n",
    "#### This notebook is meant to experiment with different parameters, architectures, and normalization methods associated with the gRNA2knockdown Library.\n",
    "#### The basic characteristic of the model as developed by Enoch Yeung are still preserved in the __main__ function of the module."
   ]
  },
  {
   "cell_type": "code",
   "execution_count": 13,
   "metadata": {},
   "outputs": [],
   "source": [
    "import os\n",
    "import csv\n",
    "import numpy as np\n",
    "import platereadertools as prt\n",
    "import gRNA2knockdown as g2k \n",
    "\n",
    "import matplotlib.pyplot as plt \n",
    "import tensorflow as tf"
   ]
  },
  {
   "cell_type": "markdown",
   "metadata": {},
   "source": [
    "#### First Let's import or data, the description of which is below:\n",
    "- The sequencing data is imported as a CSV and contains gRNA designs which tile the target (GFP) with 3bp of overlap.\n",
    "- The time series data is imported as a TSV text file generated BioTek's Gen5 software and from data collected on Synergy H1s.\n",
    "- The experimental design is:\n",
    "  - Total run time = 18 hours\n",
    "  - Time step = 3 min.\n",
    "  - Reads:\n",
    "    - OD600: Absorbance at 600 nm\n",
    "    - Fluorescence: Excitation = 480 nm, Emission = 510 nm.\n",
    "  - Runs where conducted with breath-easy film to reduce moisture loss."
   ]
  },
  {
   "cell_type": "code",
   "execution_count": 7,
   "metadata": {},
   "outputs": [],
   "source": [
    "# First we need to load the data\n",
    "data_fp = \"Data/\"\n",
    "spacer_fp = os.path.join(data_fp, \"GFP_spacers.gbk\")\n",
    "data_0nM_fp = os.path.join(data_fp,\n",
    "                            \"p2x11_80memberlibrary_0mMIPTG20230730.txt\")\n",
    "data_10mM_fp = os.path.join(data_fp,\n",
    "                            \"p2x11_80memberlib_10mMIPTG20230730.txt\")\n",
    "\n",
    "# Organize the label, sequence data from platereadertools and the csv standard module.\n",
    "seqs = csv.reader(open(\"Data/GFP_spacers.csv\"))\n",
    "allseqs = [seq for seq in seqs]\n",
    "data0, time0 = prt.Organize(data_0nM_fp, 8, 12, 18, 3/60)\n",
    "data1, time1 = prt.Organize(data_10mM_fp, 8, 12, 18, 3/60)\n",
    "\n",
    "# Based off of the timeseries data, we can see that the greatest change in flourescence occurs at timepoint 165 \n",
    "# (~8hours). We will use this timepoint to calculate the fold change between the 0mM and 10mM data.\n",
    "reads = list(data0.keys())\n",
    "data_pt0 = data0[reads[1]][:,:,165]\n",
    "data_pt1 = data1[reads[1]][:,:,165]\n",
    "\n",
    "# Calculate the fold change between the 0mM and 10mM data.\n",
    "fold_change = data_pt1/data_pt0\n",
    "data = np.reshape(fold_change,(96))"
   ]
  },
  {
   "cell_type": "code",
   "execution_count": 8,
   "metadata": {},
   "outputs": [
    {
     "data": {
      "image/png": "[encoded data removed]",
      "text/plain": [
       "<Figure size 640x480 with 1 Axes>"
      ]
     },
     "metadata": {},
     "output_type": "display_data"
    }
   ],
   "source": [
    "fig, ax = plt.subplots(1,1)\n",
    "ax.bar(range(len(data)), data)\n",
    "ax.set_xlabel(\"gRNA position with tilling equal to 3bp\")\n",
    "ax.set_ylabel('Fold Change in RFU')\n",
    "ax.spines['top'].set_visible(False)\n",
    "ax.spines['right'].set_visible(False)\n",
    "ax.set_title(\"Fold Change in RFU for each gRNA position at 8 hours\")\n",
    "if True:\n",
    "    plt.savefig(\"./Figures/foldchange.png\")"
   ]
  },
  {
   "cell_type": "markdown",
   "metadata": {},
   "source": [
    "### Define the gRNA2knockdown model parameters.\n",
    "- The size of the gRNAs is 30 bp, so it makes may make sense to make the intermediate layers 30 nodes.\n",
    "- For now lets keep the embedding space the same size, and not try to use the resnet functionality."
   ]
  },
  {
   "cell_type": "code",
   "execution_count": 9,
   "metadata": {},
   "outputs": [],
   "source": [
    "stride_parameter = 2\n",
    "label_dim = 1\n",
    "embedding_dim = 18\n",
    "intermediate_dim = 30\n",
    "batch_size_parameter=300 #4000 for howard's e. coli dataset (from Enoch's code)\n",
    "debug_splash = 0\n",
    "this_step_size_val = 0.25\n",
    "this_corpus, this_labels = g2k.make_labeled_corpus(allseqs, data, stride_parameter)"
   ]
  },
  {
   "cell_type": "code",
   "execution_count": 10,
   "metadata": {},
   "outputs": [
    {
     "name": "stdout",
     "output_type": "stream",
     "text": [
      "2784\n"
     ]
    }
   ],
   "source": [
    "# Define the random transformation householder matrix.\n",
    "Rand_Transform = g2k.rvs(dim=stride_parameter)\n",
    "\n",
    "# Define the corpus for the model.\n",
    "this_corpus_vec = []\n",
    "for this_corpus_elem in this_corpus:\n",
    "    vec_value = g2k.sequence_encoding(this_corpus_elem)\n",
    "    vec_value = np.dot(Rand_Transform,vec_value)\n",
    "\n",
    "    this_corpus_vec.append(vec_value)\n",
    "\n",
    "this_corpus_vec = np.asarray(this_corpus_vec)\n",
    "this_labels = np.expand_dims(this_labels,axis=1)\n",
    "print(len(this_labels))\n",
    "hidden_vars_list = [embedding_dim, stride_parameter]"
   ]
  },
  {
   "cell_type": "markdown",
   "metadata": {},
   "source": [
    "### Build the model."
   ]
  },
  {
   "cell_type": "code",
   "execution_count": 14,
   "metadata": {},
   "outputs": [
    {
     "ename": "TypeError",
     "evalue": "initialize_Wblist() takes 2 positional arguments but 3 were given",
     "output_type": "error",
     "traceback": [
      "\u001b[0;31m---------------------------------------------------------------------------\u001b[0m",
      "\u001b[0;31mTypeError\u001b[0m                                 Traceback (most recent call last)",
      "Cell \u001b[0;32mIn[14], line 9\u001b[0m\n\u001b[1;32m      5\u001b[0m this_u \u001b[38;5;241m=\u001b[39m tf\u001b[38;5;241m.\u001b[39mcompat\u001b[38;5;241m.\u001b[39mv1\u001b[38;5;241m.\u001b[39mplaceholder(tf\u001b[38;5;241m.\u001b[39mfloat32, \n\u001b[1;32m      6\u001b[0m                                     shape\u001b[38;5;241m=\u001b[39m[\u001b[38;5;28;01mNone\u001b[39;00m,stride_parameter])\n\u001b[1;32m      8\u001b[0m \u001b[38;5;28;01mwith\u001b[39;00m tf\u001b[38;5;241m.\u001b[39mdevice(\u001b[38;5;124m'\u001b[39m\u001b[38;5;124m/cpu:0\u001b[39m\u001b[38;5;124m'\u001b[39m):\n\u001b[0;32m----> 9\u001b[0m     this_W_list,this_b_list \u001b[38;5;241m=\u001b[39m \u001b[43mg2k\u001b[49m\u001b[38;5;241;43m.\u001b[39;49m\u001b[43minitialize_Wblist\u001b[49m\u001b[43m(\u001b[49m\u001b[43msess\u001b[49m\u001b[43m,\u001b[49m\u001b[43m \u001b[49m\u001b[43mstride_parameter\u001b[49m\u001b[43m,\u001b[49m\n\u001b[1;32m     10\u001b[0m \u001b[43m                                                \u001b[49m\u001b[43mhidden_vars_list\u001b[49m\u001b[43m)\u001b[49m\n\u001b[1;32m     11\u001b[0m     this_y_out,all_layers \u001b[38;5;241m=\u001b[39m g2k\u001b[38;5;241m.\u001b[39mnetwork_assemble(sess, this_u,this_W_list,this_b_list\n\u001b[1;32m     12\u001b[0m                                             ,keep_prob\u001b[38;5;241m=\u001b[39m\u001b[38;5;241m1.0\u001b[39m,\n\u001b[1;32m     13\u001b[0m                                             activation_flag\u001b[38;5;241m=\u001b[39m\u001b[38;5;241m2\u001b[39m,res_net\u001b[38;5;241m=\u001b[39m\u001b[38;5;241m0\u001b[39m)\n\u001b[1;32m     15\u001b[0m this_embedding \u001b[38;5;241m=\u001b[39m all_layers[\u001b[38;5;241m-\u001b[39m\u001b[38;5;241m2\u001b[39m]\n",
      "\u001b[0;31mTypeError\u001b[0m: initialize_Wblist() takes 2 positional arguments but 3 were given"
     ]
    }
   ],
   "source": [
    "# Define the tensorflow session\n",
    "sess = tf.compat.v1.Session()\n",
    "tf.compat.v1.disable_eager_execution() # needed because of placeholder variables\n",
    "\n",
    "this_u = tf.compat.v1.placeholder(tf.float32, \n",
    "                                    shape=[None,stride_parameter])\n",
    "\n",
    "with tf.device('/cpu:0'):\n",
    "    this_W_list,this_b_list = g2k.initialize_Wblist(sess, stride_parameter,\n",
    "                                                hidden_vars_list)\n",
    "    this_y_out,all_layers = g2k.network_assemble(sess, this_u,this_W_list,this_b_list\n",
    "                                            ,keep_prob=1.0,\n",
    "                                            activation_flag=2,res_net=0)\n",
    "\n",
    "this_embedding = all_layers[-2]\n",
    "regress_list = [intermediate_dim]*1+[label_dim]\n",
    "with tf.device('/cpu:0'):\n",
    "    this_Wregress_list,this_bregress_list = g2k.initialize_Wblist(embedding_dim,\n",
    "                                                                regress_list)\n",
    "\n",
    "    HybridLoss = g2k.customLoss(this_y_out,this_u,this_embedding)\n",
    "    result = sess.run(tf.compat.v1.global_variables_initializer())\n",
    "    this_optim = tf.compat.v1.train.AdagradOptimizer(\n",
    "        learning_rate=this_step_size_val).minimize(HybridLoss)\n",
    "    step_size = tf.compat.v1.placeholder(tf.float32,shape=[])\n",
    "    result = sess.run(tf.compat.v1.global_variables_initializer())\n",
    "    this_vae_loss = g2k.vae_loss(this_y_out,this_u)\n",
    "    this_embed_loss = g2k.embed_loss(this_u,this_embedding)"
   ]
  }
 ],
 "metadata": {
  "kernelspec": {
   "display_name": ".venv",
   "language": "python",
   "name": "python3"
  },
  "language_info": {
   "codemirror_mode": {
    "name": "ipython",
    "version": 3
   },
   "file_extension": ".py",
   "mimetype": "text/x-python",
   "name": "python",
   "nbconvert_exporter": "python",
   "pygments_lexer": "ipython3",
   "version": "3.11.5"
  }
 },
 "nbformat": 4,
 "nbformat_minor": 2
}
