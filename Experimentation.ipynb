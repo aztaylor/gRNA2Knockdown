{
 "cells": [
  {
   "cell_type": "markdown",
   "metadata": {},
   "source": [
    "# Experiment Notebook \n",
    "#### This notebook is meant to experiment with different parameters, architectures, and normalization methods associated with the gRNA2knockdown Library.\n",
    "#### The basic characteristic of the model as developed by Enoch Yeung are still preserved in the __main__ function of the module."
   ]
  },
  {
   "cell_type": "markdown",
   "metadata": {},
   "source": [
    "#### First Let's import or data, the description of which is below:\n",
    "- The sequencing data is imported as a CSV and contains gRNA designs which tile the target (GFP) with 3bp of overlap.\n",
    "- The time series data is imported as a TSV text file generated BioTek's Gen5 software and from data collected on Synergy H1s.\n",
    "- The experimental design is:\n",
    "  - Total run time = 18 hours\n",
    "  - Time step = 3 min.\n",
    "  - Reads:\n",
    "    - OD600: Absorbance at 600 nm\n",
    "    - Fluorescence: Excitation = 480 nm, Emission = 510 nm.\n",
    "  - Runs where conducted with breath-easy film to reduce moisture loss."
   ]
  },
  {
   "cell_type": "code",
   "execution_count": null,
   "metadata": {},
   "outputs": [
    {
     "ename": "",
     "evalue": "",
     "output_type": "error",
     "traceback": [
      "\u001b[1;31mFailed to start the Kernel. \n",
      "\u001b[1;31m/Users/alec/Documents/gRNA2Knockdown/.venv/bin/python: No module named pip.__main__; 'pip' is a package and cannot be directly executed. \n",
      "\u001b[1;31mView Jupyter <a href='command:jupyter.viewOutput'>log</a> for further details."
     ]
    }
   ],
   "source": [
    "# First we need to load the data\n",
    "data_fp = \"Data/\"\n",
    "spacer_fp = os.path.join(data_fp, \"GFP_spacers.gbk\")\n",
    "data_0nM_fp = os.path.join(data_fp,\n",
    "                            \"p2x11_80memberlibrary_0mMIPTG20230730.txt\")\n",
    "data_10mM_fp = os.path.join(data_fp,\n",
    "                            \"p2x11_80memberlib_10mMIPTG20230730.txt\")\n",
    "\n",
    "# Organize the label, sequence data from platereadertools and the csv standard module.\n",
    "seqs = csv.reader(open(\"Data/GFP_spacers.csv\"))\n",
    "allseqs = [seq for seq in seqs]\n",
    "data0, time0 = prt.Organize(data_0nM_fp, 8, 12, 18, 3/60)\n",
    "data1, time1 = prt.Organize(data_10mM_fp, 8, 12, 18, 3/60)\n",
    "\n",
    "# Based off of the timeseries data, we can see that the greatest change in flourescence occurs at timepoint 165 \n",
    "# (~8hours). We will use this timepoint to calculate the fold change between the 0mM and 10mM data.\n",
    "reads = list(data0.keys())\n",
    "data_pt0 = data0[reads[1]][:,:,165]\n",
    "data_pt1 = data1[reads[1]][:,:,165]\n",
    "\n",
    "# Calculate the fold change between the 0mM and 10mM data.\n",
    "fold_change = data_pt1/data_pt0\n",
    "data = np.reshape(fold_change,(96))"
   ]
  },
  {
   "cell_type": "code",
   "execution_count": null,
   "metadata": {},
   "outputs": [
    {
     "ename": "",
     "evalue": "",
     "output_type": "error",
     "traceback": [
      "\u001b[1;31mFailed to start the Kernel. \n",
      "\u001b[1;31m/Users/alec/Documents/gRNA2Knockdown/.venv/bin/python: No module named pip.__main__; 'pip' is a package and cannot be directly executed. \n",
      "\u001b[1;31mView Jupyter <a href='command:jupyter.viewOutput'>log</a> for further details."
     ]
    }
   ],
   "source": [
    "fig, ax = plt.subplots(1,1)\n",
    "ax.bar(range(len(data)), data, color = 'yellow')\n",
    "ax.set_xlabel(\"gRNA position with tilling equal to 3bp\")\n",
    "ax.set_ylabel('Fold Change in RFU')\n",
    "ax.spines['top'].set_visible(False)\n",
    "ax.spines['right'].set_visible(False)\n",
    "ax.set_title(\"Fold Change in RFU for each gRNA position at 8 hours\")\n",
    "if True:\n",
    "    plt.savefig(\"./Figures/foldchange.png\")"
   ]
  },
  {
   "cell_type": "markdown",
   "metadata": {},
   "source": [
    "### Define the gRNA2knockdown model parameters.\n",
    "- The size of the gRNAs is 30 bp, so it makes may make sense to make the intermediate layers 30 nodes.\n",
    "- For now lets keep the embedding space the same size, and not try to use the resnet functionality.\n",
    "- Get a slot for the rack computer (email Josh)."
   ]
  },
  {
   "cell_type": "code",
   "execution_count": null,
   "metadata": {},
   "outputs": [
    {
     "ename": "",
     "evalue": "",
     "output_type": "error",
     "traceback": [
      "\u001b[1;31mFailed to start the Kernel. \n",
      "\u001b[1;31m/Users/alec/Documents/gRNA2Knockdown/.venv/bin/python: No module named pip.__main__; 'pip' is a package and cannot be directly executed. \n",
      "\u001b[1;31mView Jupyter <a href='command:jupyter.viewOutput'>log</a> for further details."
     ]
    }
   ],
   "source": [
    "stride_parameter = 25 #\n",
    "label_dim = 1\n",
    "embedding_dim = 24\n",
    "intermediate_dim = 40 # Make this larger than the sequencing space\n",
    "batch_size_parameter=5 # Should be the same as the number of gRNAs\n",
    "debug_splash = 0\n",
    "this_step_size_val = 0.1\n",
    "this_corpus, this_labels = g2k.make_labeled_corpus(allseqs, data,\n",
    "                                                    stride_parameter)\n",
    "sess = None"
   ]
  },
  {
   "cell_type": "code",
   "execution_count": null,
   "metadata": {},
   "outputs": [
    {
     "ename": "",
     "evalue": "",
     "output_type": "error",
     "traceback": [
      "\u001b[1;31mFailed to start the Kernel. \n",
      "\u001b[1;31m/Users/alec/Documents/gRNA2Knockdown/.venv/bin/python: No module named pip.__main__; 'pip' is a package and cannot be directly executed. \n",
      "\u001b[1;31mView Jupyter <a href='command:jupyter.viewOutput'>log</a> for further details."
     ]
    }
   ],
   "source": [
    "# Define the random transformation householder matrix.\n",
    "Rand_Transform = g2k.rvs(dim=stride_parameter)\n",
    "\n",
    "# Define the corpus for the model.\n",
    "this_corpus_vec = []\n",
    "for this_corpus_elem in this_corpus:\n",
    "    vec_value = g2k.sequence_encoding(this_corpus_elem)\n",
    "    vec_value = np.dot(Rand_Transform,vec_value)\n",
    "    this_corpus_vec.append(vec_value)\n",
    "\n",
    "this_corpus_vec = np.asarray(this_corpus_vec)\n",
    "this_labels = np.expand_dims(this_labels,axis=1)\n",
    "hidden_vars_list = [stride_parameter, embedding_dim, stride_parameter]\n",
    "print(hidden_vars_list)"
   ]
  },
  {
   "cell_type": "code",
   "execution_count": null,
   "metadata": {},
   "outputs": [
    {
     "ename": "",
     "evalue": "",
     "output_type": "error",
     "traceback": [
      "\u001b[1;31mFailed to start the Kernel. \n",
      "\u001b[1;31m/Users/alec/Documents/gRNA2Knockdown/.venv/bin/python: No module named pip.__main__; 'pip' is a package and cannot be directly executed. \n",
      "\u001b[1;31mView Jupyter <a href='command:jupyter.viewOutput'>log</a> for further details."
     ]
    }
   ],
   "source": [
    "# Data is mostly redundant, there are sparse features to extract from redundant data. \n",
    "this_corpus\n"
   ]
  },
  {
   "cell_type": "markdown",
   "metadata": {},
   "source": [
    "### Build the model."
   ]
  },
  {
   "cell_type": "code",
   "execution_count": null,
   "metadata": {},
   "outputs": [
    {
     "ename": "",
     "evalue": "",
     "output_type": "error",
     "traceback": [
      "\u001b[1;31mFailed to start the Kernel. \n",
      "\u001b[1;31m/Users/alec/Documents/gRNA2Knockdown/.venv/bin/python: No module named pip.__main__; 'pip' is a package and cannot be directly executed. \n",
      "\u001b[1;31mView Jupyter <a href='command:jupyter.viewOutput'>log</a> for further details."
     ]
    }
   ],
   "source": [
    "# Define the tensorflow session\n",
    "if sess != None:\n",
    "        sess.close()\n",
    "sess = tf.compat.v1.Session()\n",
    "tf.compat.v1.disable_eager_execution() # needed because of placeholder variables\n",
    "\n",
    "this_u = tf.compat.v1.placeholder(tf.float32, \n",
    "                                    shape=[None,stride_parameter])\n",
    "\n",
    "with tf.device('/cpu:0'):\n",
    "    this_W_list,this_b_list = g2k.initialize_Wblist(stride_parameter,\n",
    "                                                hidden_vars_list)\n",
    "    this_y_out,all_layers = g2k.network_assemble(this_u,this_W_list,this_b_list\n",
    "                                            ,keep_prob=1.0,\n",
    "                                            activation_flag=2,res_net=0)\n",
    "\n",
    "this_embedding = all_layers[-2]\n",
    "regress_list = [intermediate_dim]*7+[label_dim]\n",
    "with tf.device('/cpu:0'):\n",
    "    this_Wregress_list,this_bregress_list = g2k.initialize_Wblist(embedding_dim,regress_list)\n"
   ]
  },
  {
   "cell_type": "code",
   "execution_count": null,
   "metadata": {},
   "outputs": [
    {
     "ename": "",
     "evalue": "",
     "output_type": "error",
     "traceback": [
      "\u001b[1;31mFailed to start the Kernel. \n",
      "\u001b[1;31m/Users/alec/Documents/gRNA2Knockdown/.venv/bin/python: No module named pip.__main__; 'pip' is a package and cannot be directly executed. \n",
      "\u001b[1;31mView Jupyter <a href='command:jupyter.viewOutput'>log</a> for further details."
     ]
    }
   ],
   "source": [
    "\n",
    "HybridLoss = g2k.customLoss(this_y_out,this_u,this_embedding)\n",
    "this_optim = tf.compat.v1.train.AdagradOptimizer(\n",
    "    learning_rate=this_step_size_val).minimize(g2k.vae_loss(this_y_out,this_u))\n",
    "step_size = tf.compat.v1.placeholder(tf.float32,shape=[])\n",
    "result = sess.run(tf.compat.v1.global_variables_initializer())\n",
    "this_vae_loss = g2k.vae_loss(this_y_out,this_u)\n",
    "this_embed_loss = g2k.embed_loss(this_u,this_embedding)"
   ]
  },
  {
   "cell_type": "code",
   "execution_count": null,
   "metadata": {},
   "outputs": [
    {
     "ename": "",
     "evalue": "",
     "output_type": "error",
     "traceback": [
      "\u001b[1;31mFailed to start the Kernel. \n",
      "\u001b[1;31m/Users/alec/Documents/gRNA2Knockdown/.venv/bin/python: No module named pip.__main__; 'pip' is a package and cannot be directly executed. \n",
      "\u001b[1;31mView Jupyter <a href='command:jupyter.viewOutput'>log</a> for further details."
     ]
    }
   ],
   "source": [
    "g2k.train_net(sess, this_corpus_vec, \n",
    "              this_u, HybridLoss,\n",
    "              this_optim,\n",
    "              batchsize=batch_size_parameter, \n",
    "              this_vae_loss=this_vae_loss, \n",
    "              this_embed_loss=this_embed_loss,\n",
    "              step_size_val=this_step_size_val*0.1, \n",
    "              valid_error_thres=1e-4,\n",
    "              test_error_thres=1e-4, max_iters=10e4,\n",
    "              save_fig='Figures/stepsize0_05.png'\n",
    "              )"
   ]
  },
  {
   "cell_type": "code",
   "execution_count": null,
   "metadata": {},
   "outputs": [
    {
     "ename": "",
     "evalue": "",
     "output_type": "error",
     "traceback": [
      "\u001b[1;31mFailed to start the Kernel. \n",
      "\u001b[1;31m/Users/alec/Documents/gRNA2Knockdown/.venv/bin/python: No module named pip.__main__; 'pip' is a package and cannot be directly executed. \n",
      "\u001b[1;31mView Jupyter <a href='command:jupyter.viewOutput'>log</a> for further details."
     ]
    }
   ],
   "source": [
    "print(this_y_out.eval(feed_dict={this_u:[this_corpus_vec[2]]}, session=sess))\n",
    "z_ind = this_y_out.eval(feed_dict={this_u:[this_corpus_vec[2]]}, session=sess)\n",
    "print(this_corpus_vec)\n",
    "print(this_corpus)"
   ]
  },
  {
   "cell_type": "code",
   "execution_count": null,
   "metadata": {},
   "outputs": [
    {
     "ename": "",
     "evalue": "",
     "output_type": "error",
     "traceback": [
      "\u001b[1;31mFailed to start the Kernel. \n",
      "\u001b[1;31m/Users/alec/Documents/gRNA2Knockdown/.venv/bin/python: No module named pip.__main__; 'pip' is a package and cannot be directly executed. \n",
      "\u001b[1;31mView Jupyter <a href='command:jupyter.viewOutput'>log</a> for further details."
     ]
    }
   ],
   "source": [
    "import seaborn as sns;\n",
    "all_mismatches = []\n",
    "for ind in range(0,len(this_corpus_vec)):\n",
    "    z_ind = this_y_out.eval(feed_dict={this_u:[this_corpus_vec[ind]]}, session=sess)\n",
    "    this_seq_out = g2k.vecback2seq(np.dot(np.linalg.inv(Rand_Transform),z_ind.T))\n",
    "    print(g2k.vecback2seq(np.dot(np.linalg.inv(Rand_Transform),z_ind.T)))\n",
    "    this_seq_out = ''.join(this_seq_out)\n",
    "    all_mismatches.append(g2k.num_mismatch(this_seq_out,this_corpus[ind]));\n",
    "hist_data = sns.displot(all_mismatches)\n",
    "mismatch_process = np.array(all_mismatches);\n",
    "mismatch_process[mismatch_process<=2.0] = 1.0;\n",
    "mismatch_process[mismatch_process>2.0] = 0.0;\n",
    "np.sum(mismatch_process)/(len(mismatch_process)*1.0)"
   ]
  },
  {
   "cell_type": "markdown",
   "metadata": {},
   "source": [
    "# Hyperparameter Sweeping\n",
    "Try to sweep various hyperparameters to find an optimal model parameter."
   ]
  }
 ],
 "metadata": {
  "kernelspec": {
   "display_name": ".venv",
   "language": "python",
   "name": "python3"
  },
  "language_info": {
   "codemirror_mode": {
    "name": "ipython",
    "version": 3
   },
   "file_extension": ".py",
   "mimetype": "text/x-python",
   "name": "python",
   "nbconvert_exporter": "python",
   "pygments_lexer": "ipython3",
   "version": "3.11.5"
  }
 },
 "nbformat": 4,
 "nbformat_minor": 2
}
