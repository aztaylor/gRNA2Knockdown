{
 "cells": [
  {
   "cell_type": "markdown",
   "metadata": {},
   "source": [
    "# Experiment Notebook \n",
    "#### This notebook is meant to experiment with different parameters, architectures, and normalization methods associated with the gRNA2knockdown Library.\n",
    "#### The basic characteristic of the model as developed by Enoch Yeung are still preserved in the __main__ function of the module."
   ]
  },
  {
   "cell_type": "code",
   "execution_count": null,
   "metadata": {},
   "outputs": [],
   "source": [
    "import os\n",
    "import numpy as np\n",
    "import platereadertools as prt\n",
    "import gRNA2knockdown as g2k \n",
    "\n",
    "import matplotlib.pyplot as plt "
   ]
  },
  {
   "cell_type": "markdown",
   "metadata": {},
   "source": [
    "#### First Let's import or data, the description of which is below:\n",
    "- The sequencing data is imported as a csv and contains gRNA designs which tile the target (GFP) with 3 bp of overlap.\n",
    "- The timeseries data is imported as a tsv text file generated BioTek's Gen5 software and from data collected on Synergy H1s.\n",
    "- The experimental design is:\n",
    "  - Total run time = 18 hours\n",
    "  - Timestep = 3 min.\n",
    "  - Reads:\n",
    "    - OD600: Absorbance at 600nm\n",
    "    - Flourescence: Exitation = , Emmission = .\n",
    "  - Runs where conducted with breath-easy film to reduce moisture loss."
   ]
  },
  {
   "cell_type": "code",
   "execution_count": null,
   "metadata": {},
   "outputs": [],
   "source": []
  }
 ],
 "metadata": {
  "kernelspec": {
   "display_name": ".venv",
   "language": "python",
   "name": "python3"
  },
  "language_info": {
   "name": "python",
   "version": "3.11.5"
  }
 },
 "nbformat": 4,
 "nbformat_minor": 2
}
